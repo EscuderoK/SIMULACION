{
 "cells": [
  {
   "cell_type": "markdown",
   "metadata": {},
   "source": [
    "Transformada Inversa\n"
   ]
  },
  {
   "cell_type": "markdown",
   "metadata": {},
   "source": [
    "Variable aleatoria exponencial con razón 1,"
   ]
  },
  {
   "cell_type": "code",
   "execution_count": 15,
   "metadata": {},
   "outputs": [
    {
     "name": "stdout",
     "output_type": "stream",
     "text": [
      "E[X]= 1.0214834008422329\n"
     ]
    }
   ],
   "source": [
    "import numpy as np\n",
    "\n",
    "def exp_1(n):\n",
    "    U= np.random.uniform(0,1,n)\n",
    "    X=-np.log(U)\n",
    "    return(X)\n",
    "\n",
    "X= exp_1(1000)\n",
    "print(f'E[X]= {np.mean(X)}')"
   ]
  },
  {
   "cell_type": "markdown",
   "metadata": {},
   "source": [
    "Variable aleatoria exponencial X con razón λ (1/λ)"
   ]
  },
  {
   "cell_type": "code",
   "execution_count": 20,
   "metadata": {},
   "outputs": [
    {
     "name": "stdout",
     "output_type": "stream",
     "text": [
      "E[X]= 2.028953635239803\n",
      "2.0\n"
     ]
    }
   ],
   "source": [
    "def exp_lam(lam,n):\n",
    "    U= np.random.uniform(0,1,n)\n",
    "    X=-(1/lam)*np.log(U)\n",
    "    return X\n",
    "\n",
    "X= exp_lam(0.5,1000)\n",
    "print(f'E[X]= {np.mean(X)}')\n"
   ]
  },
  {
   "cell_type": "markdown",
   "metadata": {},
   "source": [
    "Variable aleatoria Gamma (n,λ)"
   ]
  },
  {
   "cell_type": "markdown",
   "metadata": {},
   "source": [
    "Se puede considerar como la suma de n exponenciales independientes, cada una\n",
    "con razón λ "
   ]
  },
  {
   "cell_type": "code",
   "execution_count": 125,
   "metadata": {},
   "outputs": [
    {
     "name": "stdout",
     "output_type": "stream",
     "text": [
      "6.553037891470407\n"
     ]
    }
   ],
   "source": [
    "\"\"\"Se genero el valor de una variable aleatoria Gamma(n=3,λ=0.5)\"\"\"\n",
    "X= sum(exp_lam(0.5,3))\n",
    "print(X)"
   ]
  },
  {
   "cell_type": "markdown",
   "metadata": {},
   "source": [
    "Método de rechazo"
   ]
  },
  {
   "cell_type": "markdown",
   "metadata": {},
   "source": [
    "Variable aleatoria normal estándar Z"
   ]
  },
  {
   "cell_type": "code",
   "execution_count": 139,
   "metadata": {},
   "outputs": [],
   "source": [
    "def normal_Z():\n",
    "    Y= exp_1(1)\n",
    "    U= np.random.uniform(0,1)\n",
    "    while U>=(np.exp(-0.5*(Y-1)**2)):\n",
    "        Y= exp_1(1)\n",
    "        U= np.random.uniform(0,1)\n",
    "    X=Y\n",
    "    return X"
   ]
  }
 ],
 "metadata": {
  "kernelspec": {
   "display_name": "Python 3",
   "language": "python",
   "name": "python3"
  },
  "language_info": {
   "codemirror_mode": {
    "name": "ipython",
    "version": 3
   },
   "file_extension": ".py",
   "mimetype": "text/x-python",
   "name": "python",
   "nbconvert_exporter": "python",
   "pygments_lexer": "ipython3",
   "version": "3.12.2"
  }
 },
 "nbformat": 4,
 "nbformat_minor": 2
}
